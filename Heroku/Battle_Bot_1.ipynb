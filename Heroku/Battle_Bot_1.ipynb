{
 "cells": [
  {
   "cell_type": "code",
   "execution_count": 1,
   "metadata": {},
   "outputs": [],
   "source": [
    "# Dependencies\n",
    "import numpy as np\n",
    "import pandas as pd\n",
    "import tweepy\n",
    "import time\n",
    "import json\n",
    "from config import consumer_key, consumer_secret, access_token, access_token_secret"
   ]
  },
  {
   "cell_type": "code",
   "execution_count": 2,
   "metadata": {},
   "outputs": [],
   "source": [
    "# Twitter API Keys\n",
    "consumer_key = consumer_key\n",
    "consumer_secret = consumer_secret\n",
    "access_token = access_token\n",
    "access_token_secret = access_token_secret"
   ]
  },
  {
   "cell_type": "code",
   "execution_count": 3,
   "metadata": {},
   "outputs": [],
   "source": [
    "# Twitter Credentials\n",
    "auth = tweepy.OAuthHandler(consumer_key, consumer_secret)\n",
    "auth.set_access_token(access_token, access_token_secret)\n",
    "api = tweepy.API(auth, parser=tweepy.parsers.JSONParser())"
   ]
  },
  {
   "cell_type": "code",
   "execution_count": 6,
   "metadata": {},
   "outputs": [],
   "source": [
    "# Target Term\n",
    "my_username = \"@Zulimikov\"\n",
    "conversation_partner = \"@Nurgulkaplan42\""
   ]
  },
  {
   "cell_type": "code",
   "execution_count": 7,
   "metadata": {},
   "outputs": [
    {
     "data": {
      "text/plain": [
       "{'contributors': None,\n",
       " 'coordinates': None,\n",
       " 'created_at': 'Sat Apr 07 20:07:27 +0000 2018',\n",
       " 'entities': {'hashtags': [],\n",
       "  'symbols': [],\n",
       "  'urls': [],\n",
       "  'user_mentions': [{'id': 980968880255393794,\n",
       "    'id_str': '980968880255393794',\n",
       "    'indices': [0, 15],\n",
       "    'name': 'Nurgul Kaplan',\n",
       "    'screen_name': 'Nurgulkaplan42'}]},\n",
       " 'favorite_count': 0,\n",
       " 'favorited': False,\n",
       " 'geo': None,\n",
       " 'id': 982711470445150209,\n",
       " 'id_str': '982711470445150209',\n",
       " 'in_reply_to_screen_name': 'Nurgulkaplan42',\n",
       " 'in_reply_to_status_id': None,\n",
       " 'in_reply_to_status_id_str': None,\n",
       " 'in_reply_to_user_id': 980968880255393794,\n",
       " 'in_reply_to_user_id_str': '980968880255393794',\n",
       " 'is_quote_status': False,\n",
       " 'lang': 'und',\n",
       " 'place': None,\n",
       " 'retweet_count': 0,\n",
       " 'retweeted': False,\n",
       " 'source': '<a href=\"https://twitter.com/zulimikov\" rel=\"nofollow\">Stev</a>',\n",
       " 'text': '@Nurgulkaplan42',\n",
       " 'truncated': False,\n",
       " 'user': {'contributors_enabled': False,\n",
       "  'created_at': 'Wed Sep 21 06:11:19 +0000 2011',\n",
       "  'default_profile': False,\n",
       "  'default_profile_image': False,\n",
       "  'description': 'Voted best twitter dad presence, Paper Plate Awards 2017',\n",
       "  'entities': {'description': {'urls': []}},\n",
       "  'favourites_count': 1817,\n",
       "  'follow_request_sent': False,\n",
       "  'followers_count': 176,\n",
       "  'following': False,\n",
       "  'friends_count': 301,\n",
       "  'geo_enabled': False,\n",
       "  'has_extended_profile': False,\n",
       "  'id': 377209947,\n",
       "  'id_str': '377209947',\n",
       "  'is_translation_enabled': False,\n",
       "  'is_translator': False,\n",
       "  'lang': 'en',\n",
       "  'listed_count': 4,\n",
       "  'location': 'San Fransokyo',\n",
       "  'name': 'stev',\n",
       "  'notifications': False,\n",
       "  'profile_background_color': 'C0DEED',\n",
       "  'profile_background_image_url': 'http://pbs.twimg.com/profile_background_images/444025800568750080/fDeAICPF.jpeg',\n",
       "  'profile_background_image_url_https': 'https://pbs.twimg.com/profile_background_images/444025800568750080/fDeAICPF.jpeg',\n",
       "  'profile_background_tile': True,\n",
       "  'profile_banner_url': 'https://pbs.twimg.com/profile_banners/377209947/1488493957',\n",
       "  'profile_image_url': 'http://pbs.twimg.com/profile_images/844809950601723905/I_YNzsIS_normal.jpg',\n",
       "  'profile_image_url_https': 'https://pbs.twimg.com/profile_images/844809950601723905/I_YNzsIS_normal.jpg',\n",
       "  'profile_link_color': 'E04141',\n",
       "  'profile_sidebar_border_color': 'FFFFFF',\n",
       "  'profile_sidebar_fill_color': 'DDEEF6',\n",
       "  'profile_text_color': '333333',\n",
       "  'profile_use_background_image': True,\n",
       "  'protected': False,\n",
       "  'screen_name': 'zulimikov',\n",
       "  'statuses_count': 3213,\n",
       "  'time_zone': 'Arizona',\n",
       "  'translator_type': 'none',\n",
       "  'url': None,\n",
       "  'utc_offset': -25200,\n",
       "  'verified': False}}"
      ]
     },
     "execution_count": 7,
     "metadata": {},
     "output_type": "execute_result"
    }
   ],
   "source": [
    "# Send opening message to conversation partner\n",
    "api.update_status(f'{conversation_partner}')"
   ]
  },
  {
   "cell_type": "code",
   "execution_count": 11,
   "metadata": {},
   "outputs": [],
   "source": [
    "# Create Thank You Function\n",
    "def Reply():\n",
    "\n",
    "    # Twitter Credentials\n",
    "    auth = tweepy.OAuthHandler(consumer_key, consumer_secret)\n",
    "    auth.set_access_token(access_token, access_token_secret)\n",
    "    api = tweepy.API(auth, parser=tweepy.parsers.JSONParser())\n",
    "\n",
    "    # Search for all tweets\n",
    "    public_tweets = api.search(my_username, count=1, result_type=\"recent\")\n",
    "\n",
    "    # Loop through all tweets\n",
    "    for tweet in public_tweets['statuses']:\n",
    "        print(tweet)\n",
    "\n",
    "        # Get ID and Author of most recent tweet directed to me\n",
    "        tweet_id = tweet[\"id\"]\n",
    "        tweet_author = tweet['user']['screen_name']\n",
    "        tweet_text = tweet['text']\n",
    "        \n",
    "        # Print the tweet_id\n",
    "        print(tweet_id)\n",
    "\n",
    "        # Use Try-Except to avoid the duplicate error\n",
    "        try:\n",
    "            if tweet_text == \"Hello\":\n",
    "                api.update_status(\n",
    "                    f\"Waddup @%s!\" %\n",
    "                    tweet_author, in_reply_to_statuse_id = tweet_id)\n",
    "                print(\"responded with Waddup\")\n",
    "            elif tweet_text == \"Nuthin much\":\n",
    "                api.update_status(\n",
    "                    f\"Oh really? @%s!\" %\n",
    "                    tweet_author, in_reply_to_statuse_id = tweet_id)\n",
    "                print(\"Responded with really?\")\n",
    "            else:\n",
    "                api.update_status(\n",
    "                    f\"Idk what you just said @%s!\" %\n",
    "                    tweet_author, in_reply_to_statuse_id = tweet_id)\n",
    "                print(\"Responded with idk\")\n",
    "                \n",
    "        except Exception:\n",
    "            print(\"Already responded to this one!\")\n",
    "\n",
    "\n",
    "        # Print message to signify complete cycle\n",
    "        print(\"We're done for now. I'll check again in 60 seconds.\")"
   ]
  },
  {
   "cell_type": "code",
   "execution_count": null,
   "metadata": {},
   "outputs": [],
   "source": [
    "# Response Lines\n",
    "# @TODO: Create a list of Response Lines\n",
    "\n"
   ]
  },
  {
   "cell_type": "code",
   "execution_count": null,
   "metadata": {},
   "outputs": [],
   "source": [
    "# # @TODO: Create converse function\n",
    "#\n",
    "\n",
    "#     # @TODO: Find the latest tweet from conversation_partner\n",
    "#    \n",
    "\n",
    "#         # @TODO: Respond to the tweet with one of the response lines\n",
    "#        \n",
    "\n",
    "# @TODO: Set timer to run every minute"
   ]
  },
  {
   "cell_type": "code",
   "execution_count": null,
   "metadata": {},
   "outputs": [],
   "source": [
    "#Set timer to run every minute\n",
    "while(True):\n",
    "    ThankYou()\n",
    "    time.sleep(60)"
   ]
  },
  {
   "cell_type": "code",
   "execution_count": null,
   "metadata": {},
   "outputs": [],
   "source": []
  }
 ],
 "metadata": {
  "kernelspec": {
   "display_name": "Python 3",
   "language": "python",
   "name": "python3"
  },
  "language_info": {
   "codemirror_mode": {
    "name": "ipython",
    "version": 3
   },
   "file_extension": ".py",
   "mimetype": "text/x-python",
   "name": "python",
   "nbconvert_exporter": "python",
   "pygments_lexer": "ipython3",
   "version": "3.6.4"
  },
  "nteract": {
   "version": "0.8.4"
  }
 },
 "nbformat": 4,
 "nbformat_minor": 2
}
