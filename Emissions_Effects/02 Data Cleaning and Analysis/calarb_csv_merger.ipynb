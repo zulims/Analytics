{
 "cells": [
  {
   "cell_type": "code",
   "execution_count": 5,
   "metadata": {},
   "outputs": [],
   "source": [
    "import os\n",
    "import pandas as pd"
   ]
  },
  {
   "cell_type": "code",
   "execution_count": 6,
   "metadata": {},
   "outputs": [
    {
     "data": {
      "text/html": [
       "<div>\n",
       "<style scoped>\n",
       "    .dataframe tbody tr th:only-of-type {\n",
       "        vertical-align: middle;\n",
       "    }\n",
       "\n",
       "    .dataframe tbody tr th {\n",
       "        vertical-align: top;\n",
       "    }\n",
       "\n",
       "    .dataframe thead th {\n",
       "        text-align: right;\n",
       "    }\n",
       "</style>\n",
       "<table border=\"1\" class=\"dataframe\">\n",
       "  <thead>\n",
       "    <tr style=\"text-align: right;\">\n",
       "      <th></th>\n",
       "      <th>AREA</th>\n",
       "      <th>EIC</th>\n",
       "      <th>EICSUM</th>\n",
       "      <th>EICSOU</th>\n",
       "      <th>EICMAT</th>\n",
       "      <th>EICSUB</th>\n",
       "      <th>POLLUTANT</th>\n",
       "      <th>SEASON</th>\n",
       "      <th>CONTROL_TYPE</th>\n",
       "      <th>2010</th>\n",
       "    </tr>\n",
       "  </thead>\n",
       "  <tbody>\n",
       "  </tbody>\n",
       "</table>\n",
       "</div>"
      ],
      "text/plain": [
       "Empty DataFrame\n",
       "Columns: [AREA, EIC, EICSUM, EICSOU, EICMAT, EICSUB, POLLUTANT, SEASON, CONTROL_TYPE, 2010]\n",
       "Index: []"
      ]
     },
     "execution_count": 6,
     "metadata": {},
     "output_type": "execute_result"
    }
   ],
   "source": [
    "# Start a master df by taking the headers from the first csv in the directory\n",
    "directory = \"csvs\"\n",
    "file = os.listdir(directory)[0]\n",
    "master_df = pd.read_csv(f'{directory}/{file}', nrows = 0)\n",
    "master_df"
   ]
  },
  {
   "cell_type": "code",
   "execution_count": 7,
   "metadata": {},
   "outputs": [
    {
     "name": "stdout",
     "output_type": "stream",
     "text": [
      "combined_data_clean.csv\n",
      "49912\n",
      " \n",
      "santa_clara.csv\n",
      "2154\n",
      " \n",
      "52066\n"
     ]
    }
   ],
   "source": [
    "# Loop through all csvs in the directory and append them to the master\n",
    "\n",
    "total_rows = 0\n",
    "\n",
    "for file in os.listdir(directory):\n",
    "    if file.endswith(\".csv\"):\n",
    "        print(file)\n",
    "        csv_df = pd.read_csv(f'{directory}/{file}')\n",
    "        n_rows = csv_df.shape[0]\n",
    "        print(n_rows)\n",
    "        print(\" \")\n",
    "        total_rows += n_rows\n",
    "        master_df = pd.concat([master_df, csv_df])\n",
    "        #master_df = master_df.append(csv_df) --- append is better in some circumstances\n",
    "        \n",
    "print(total_rows)"
   ]
  },
  {
   "cell_type": "code",
   "execution_count": 8,
   "metadata": {},
   "outputs": [],
   "source": [
    "#save combined csv, but not in directory\n",
    "master_df.to_csv(\"combined_data.csv\", encoding='utf-8', index=False)"
   ]
  },
  {
   "cell_type": "code",
   "execution_count": null,
   "metadata": {},
   "outputs": [],
   "source": []
  }
 ],
 "metadata": {
  "kernelspec": {
   "display_name": "Python 3",
   "language": "python",
   "name": "python3"
  },
  "language_info": {
   "codemirror_mode": {
    "name": "ipython",
    "version": 3
   },
   "file_extension": ".py",
   "mimetype": "text/x-python",
   "name": "python",
   "nbconvert_exporter": "python",
   "pygments_lexer": "ipython3",
   "version": "3.6.4"
  }
 },
 "nbformat": 4,
 "nbformat_minor": 2
}
